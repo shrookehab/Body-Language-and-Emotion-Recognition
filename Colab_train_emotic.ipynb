{
  "nbformat": 4,
  "nbformat_minor": 0,
  "metadata": {
    "colab": {
      "name": "emotic.ipynb",
      "provenance": [],
      "collapsed_sections": [],
      "toc_visible": true,
      "authorship_tag": "ABX9TyOvEGajUxIXQTcOluZM1wCA",
      "include_colab_link": true
    },
    "kernelspec": {
      "name": "python3",
      "display_name": "Python 3"
    },
    "accelerator": "GPU"
  },
  "cells": [
    {
      "cell_type": "markdown",
      "metadata": {
        "id": "view-in-github",
        "colab_type": "text"
      },
      "source": [
        "<a href=\"https://colab.research.google.com/github/Tandon-A/emotic/blob/master/Colab_train_emotic.ipynb\" target=\"_parent\"><img src=\"https://colab.research.google.com/assets/colab-badge.svg\" alt=\"Open In Colab\"/></a>"
      ]
    },
    {
      "cell_type": "markdown",
      "metadata": {
        "id": "_5Xan2tnR89K",
        "colab_type": "text"
      },
      "source": [
        "<h1><center> Emotions in context (Emotic) </center></h1>\n",
        "<center> Using context information to recognize emotions in images</center>"
      ]
    },
    {
      "cell_type": "markdown",
      "metadata": {
        "colab_type": "text",
        "id": "rbCWI0rkt8yp"
      },
      "source": [
        "<h1>Project context</h1>\n",
        "\n",
        "Humans use their facial features or expressions to convey how they feel, such as a person may smile when happy and scowl when angry. Historically, computer vision research has focussed on analyzing and learning these facial features to recognize emotions. \n",
        "However, these facial features are not universal and vary extensively across cultures and situations. \n",
        "\n",
        "<figure>\n",
        "<img src=\"https://raw.githubusercontent.com/Tandon-A/emotic/master/assets/face.jpg\"> <img src=\"https://raw.githubusercontent.com/Tandon-A/emotic/master/assets/full_scene.jpg\" width=\"400\">\n",
        "  <figcaption>Fig 1: a) (Facial feature) The person looks angry or in pain b) (Whole scene) The person looks elated.</figcaption>\n",
        "</figure>\n",
        "\n",
        "\n",
        "A scene context, as shown in the figure above, can provide additional information about the situations. This project explores the use of context in recognizing emotions in images. \n",
        "\n",
        "This project uses the <a href=\"http://sunai.uoc.edu/emotic/download.html\">EMOTIC dataset</a> and follows the methodology as introduced in the paper <a href=\"https://arxiv.org/pdf/2003.13401.pdf\">'Context based emotion recognition using EMOTIC dataset'</a>."
      ]
    },
    {
      "cell_type": "code",
      "metadata": {
        "id": "1YFaW8HlNWnE",
        "colab_type": "code",
        "outputId": "d0ce63cc-8a6c-463b-88a5-ece54990eb09",
        "colab": {
          "base_uri": "https://localhost:8080/",
          "height": 34
        }
      },
      "source": [
        "# Linking Google drive to use preprocessed data \n",
        "from google.colab import drive\n",
        "\n",
        "# This will prompt for authorization.\n",
        "drive.mount('/content/drive')\n",
        "#/content/drive/My Drive//"
      ],
      "execution_count": 1,
      "outputs": [
        {
          "output_type": "stream",
          "text": [
            "Drive already mounted at /content/drive; to attempt to forcibly remount, call drive.mount(\"/content/drive\", force_remount=True).\n"
          ],
          "name": "stdout"
        }
      ]
    },
    {
      "cell_type": "markdown",
      "metadata": {
        "id": "FhzX7KUihZqu",
        "colab_type": "text"
      },
      "source": [
        "# I. Prepare places pretrained model"
      ]
    },
    {
      "cell_type": "code",
      "metadata": {
        "id": "uYgeeri3wdCM",
        "colab_type": "code",
        "outputId": "e7600276-d296-4d16-dad0-7d7293210466",
        "colab": {
          "base_uri": "https://localhost:8080/",
          "height": 218
        }
      },
      "source": [
        "# Get Resnet18 model trained on places dataset. \n",
        "!mkdir ./places\n",
        "!wget http://places2.csail.mit.edu/models_places365/resnet18_places365.pth.tar -O ./places/resnet18_places365.pth.tar"
      ],
      "execution_count": 2,
      "outputs": [
        {
          "output_type": "stream",
          "text": [
            "mkdir: cannot create directory ‘./places’: File exists\n",
            "--2020-05-23 16:56:44--  http://places2.csail.mit.edu/models_places365/resnet18_places365.pth.tar\n",
            "Resolving places2.csail.mit.edu (places2.csail.mit.edu)... 128.30.100.255\n",
            "Connecting to places2.csail.mit.edu (places2.csail.mit.edu)|128.30.100.255|:80... connected.\n",
            "HTTP request sent, awaiting response... 200 OK\n",
            "Length: 45506139 (43M) [application/x-tar]\n",
            "Saving to: ‘./places/resnet18_places365.pth.tar’\n",
            "\n",
            "./places/resnet18_p 100%[===================>]  43.40M  22.7MB/s    in 1.9s    \n",
            "\n",
            "2020-05-23 16:56:47 (22.7 MB/s) - ‘./places/resnet18_places365.pth.tar’ saved [45506139/45506139]\n",
            "\n"
          ],
          "name": "stdout"
        }
      ]
    },
    {
      "cell_type": "code",
      "metadata": {
        "id": "DyigpTRvws6W",
        "colab_type": "code",
        "outputId": "8b98e435-75e7-40c5-c7ec-9922fd0d63c2",
        "colab": {
          "base_uri": "https://localhost:8080/",
          "height": 50
        }
      },
      "source": [
        "# Converting model weights to python3.6 format\n",
        "import torch\n",
        "from torch.autograd import Variable as V\n",
        "import torchvision.models as models\n",
        "from torchvision import transforms as trn\n",
        "from torch.nn import functional as F\n",
        "import os\n",
        "\n",
        "model_path = './places'\n",
        "archs = ['resnet18']\n",
        "for arch in archs:\n",
        "    model_file = os.path.join(model_path,'%s_places365.pth.tar' % arch)\n",
        "    save_file = os.path.join(model_path,'%s_places365_py36.pth.tar' % arch)\n",
        "\n",
        "    from functools import partial\n",
        "    import pickle\n",
        "    pickle.load = partial(pickle.load, encoding=\"latin1\")\n",
        "    pickle.Unpickler = partial(pickle.Unpickler, encoding=\"latin1\")\n",
        "    model = torch.load(model_file, map_location=lambda storage, loc: storage, pickle_module=pickle)\n",
        "    torch.save(model, save_file)\n",
        "    print('converting %s -> %s'%(model_file, save_file))\n",
        "\n",
        "print ('completed cell')"
      ],
      "execution_count": 3,
      "outputs": [
        {
          "output_type": "stream",
          "text": [
            "converting ./places/resnet18_places365.pth.tar -> ./places/resnet18_places365_py36.pth.tar\n",
            "completed cell\n"
          ],
          "name": "stdout"
        }
      ]
    },
    {
      "cell_type": "code",
      "metadata": {
        "id": "RhWL6Qi_w4qp",
        "colab_type": "code",
        "outputId": "dd6271c6-54c4-4f56-ddd9-b83eb0f606ab",
        "colab": {
          "base_uri": "https://localhost:8080/",
          "height": 34
        }
      },
      "source": [
        "# Saving the model weights to use ahead in the notebook\n",
        "import torch\n",
        "from torch.autograd import Variable as V\n",
        "import torchvision.models as models\n",
        "from PIL import Image\n",
        "from torchvision import transforms as trn\n",
        "from torch.nn import functional as F\n",
        "import os\n",
        "\n",
        "# the architecture to use\n",
        "arch = 'resnet18'\n",
        "model_weight = os.path.join(model_path, 'resnet18_places365_py36.pth.tar')\n",
        "\n",
        "# create the network architecture\n",
        "model = models.__dict__[arch](num_classes=365)\n",
        "\n",
        "#model_weight = '%s_places365.pth.tar' % arch\n",
        "\n",
        "checkpoint = torch.load(model_weight, map_location=lambda storage, loc: storage) # model trained in GPU could be deployed in CPU machine like this!\n",
        "state_dict = {str.replace(k,'module.',''): v for k,v in checkpoint['state_dict'].items()} # the data parallel layer will add 'module' before each layer name\n",
        "model.load_state_dict(state_dict)\n",
        "model.eval()\n",
        "\n",
        "model.cpu()\n",
        "torch.save(model, os.path.join(model_path, 'res_context' + '.pth'))\n",
        "print ('completed cell')"
      ],
      "execution_count": 4,
      "outputs": [
        {
          "output_type": "stream",
          "text": [
            "completed cell\n"
          ],
          "name": "stdout"
        }
      ]
    },
    {
      "cell_type": "markdown",
      "metadata": {
        "id": "ykNjfrUuhpbq",
        "colab_type": "text"
      },
      "source": [
        "# II. General imports"
      ]
    },
    {
      "cell_type": "code",
      "metadata": {
        "id": "vi-O8QgwvOQY",
        "colab_type": "code",
        "outputId": "b08b8a76-2a53-4d3c-fd66-8b0a838c8054",
        "colab": {
          "base_uri": "https://localhost:8080/",
          "height": 34
        }
      },
      "source": [
        "import matplotlib.pyplot as plt\n",
        "import numpy as np\n",
        "import os\n",
        "from PIL import Image\n",
        "import scipy.io\n",
        "from sklearn.metrics import average_precision_score, precision_recall_curve\n",
        "\n",
        "import torch \n",
        "import torch.nn as nn \n",
        "import torch.nn.functional as F\n",
        "import torch.optim as optim \n",
        "from torch.utils.data import Dataset, DataLoader \n",
        "from torchsummary import summary\n",
        "from torchvision import transforms\n",
        "import torchvision.models as models\n",
        "from torch.optim.lr_scheduler import StepLR\n",
        "\n",
        "print ('completed cell')"
      ],
      "execution_count": 5,
      "outputs": [
        {
          "output_type": "stream",
          "text": [
            "completed cell\n"
          ],
          "name": "stdout"
        }
      ]
    },
    {
      "cell_type": "markdown",
      "metadata": {
        "id": "AD0pBBBYh2vW",
        "colab_type": "text"
      },
      "source": [
        "# III. Emotic classes"
      ]
    },
    {
      "cell_type": "markdown",
      "metadata": {
        "id": "ZfPKerg4TWkR",
        "colab_type": "text"
      },
      "source": [
        "## Emotic Model "
      ]
    },
    {
      "cell_type": "code",
      "metadata": {
        "id": "ZWt88EcJVu0c",
        "colab_type": "code",
        "outputId": "45c7c38e-1491-47cf-d4c8-a1d88d0d59a6",
        "colab": {
          "base_uri": "https://localhost:8080/",
          "height": 34
        }
      },
      "source": [
        "class Emotic(nn.Module):\n",
        "  ''' Emotic Model'''\n",
        "  def __init__(self, num_context_features, num_body_features):\n",
        "    super(Emotic,self).__init__()\n",
        "    self.num_context_features = num_context_features\n",
        "    self.num_body_features = num_body_features\n",
        "    self.fc1 = nn.Linear((self.num_context_features + num_body_features), 256)\n",
        "    self.bn1 = nn.BatchNorm1d(256)\n",
        "    self.d1 = nn.Dropout(p=0.5)\n",
        "    self.fc_cat = nn.Linear(256, 26)\n",
        "    self.fc_cont = nn.Linear(256, 3)\n",
        "    self.relu = nn.ReLU()\n",
        "\n",
        "    \n",
        "  def forward(self, x_context, x_body):\n",
        "    context_features = x_context.view(-1, self.num_context_features)\n",
        "    body_features = x_body.view(-1, self.num_body_features)\n",
        "    fuse_features = torch.cat((context_features, body_features), 1)\n",
        "    fuse_out = self.fc1(fuse_features)\n",
        "    fuse_out = self.bn1(fuse_out)\n",
        "    fuse_out = self.relu(fuse_out)\n",
        "    fuse_out = self.d1(fuse_out)    \n",
        "    cat_out = self.fc_cat(fuse_out)\n",
        "    cont_out = self.fc_cont(fuse_out)\n",
        "    return cat_out, cont_out\n",
        "\n",
        "print ('completed cell')"
      ],
      "execution_count": 6,
      "outputs": [
        {
          "output_type": "stream",
          "text": [
            "completed cell\n"
          ],
          "name": "stdout"
        }
      ]
    },
    {
      "cell_type": "markdown",
      "metadata": {
        "id": "zdzZGj6AxLaC",
        "colab_type": "text"
      },
      "source": [
        "## Emotic Dataset"
      ]
    },
    {
      "cell_type": "code",
      "metadata": {
        "id": "eKG5dNMXxlnm",
        "colab_type": "code",
        "outputId": "f946e2dc-921d-4c8c-bfb9-b05129e90e0a",
        "colab": {
          "base_uri": "https://localhost:8080/",
          "height": 34
        }
      },
      "source": [
        "class Emotic_PreDataset(Dataset):\n",
        "  ''' Custom Emotic dataset class. Use preprocessed data stored in npy files. '''\n",
        "  def __init__(self, x_context, x_body, y_cat, y_cont, transform, context_norm, body_norm):\n",
        "    super(Emotic_PreDataset,self).__init__()\n",
        "    self.x_context = x_context\n",
        "    self.x_body = x_body\n",
        "    self.y_cat = y_cat \n",
        "    self.y_cont = y_cont\n",
        "    self.transform = transform \n",
        "    self.context_norm = transforms.Normalize(context_norm[0], context_norm[1])  # Normalizing the context image with context mean and context std\n",
        "    self.body_norm = transforms.Normalize(body_norm[0], body_norm[1])           # Normalizing the body image with body mean and body std\n",
        "\n",
        "  def __len__(self):\n",
        "    return len(self.y_cat)\n",
        "  \n",
        "  def __getitem__(self, index):\n",
        "    image_context = self.x_context[index]\n",
        "    image_body = self.x_body[index]\n",
        "    cat_label = self.y_cat[index]\n",
        "    cont_label = self.y_cont[index]\n",
        "    return self.context_norm(self.transform(image_context)), self.body_norm(self.transform(image_body)), torch.tensor(cat_label, dtype=torch.float32), torch.tensor(cont_label, dtype=torch.float32)/10.0\n",
        "\n",
        "print ('completed cell')"
      ],
      "execution_count": 7,
      "outputs": [
        {
          "output_type": "stream",
          "text": [
            "completed cell\n"
          ],
          "name": "stdout"
        }
      ]
    },
    {
      "cell_type": "markdown",
      "metadata": {
        "id": "JFuEQruAxQrK",
        "colab_type": "text"
      },
      "source": [
        "## Emotic Losses"
      ]
    },
    {
      "cell_type": "code",
      "metadata": {
        "id": "ObffJVXkqsJg",
        "colab_type": "code",
        "outputId": "19050d6b-6dbd-45c3-8c40-d54bb834c497",
        "colab": {
          "base_uri": "https://localhost:8080/",
          "height": 34
        }
      },
      "source": [
        "class DiscreteLoss(nn.Module):\n",
        "  ''' Class to measure loss between categorical emotion predictions and labels.'''\n",
        "  def __init__(self, weight_type='mean', device=torch.device('cpu')):\n",
        "    super(DiscreteLoss, self).__init__()\n",
        "    self.weight_type = weight_type\n",
        "    self.device = device\n",
        "    if self.weight_type == 'mean':\n",
        "      self.weights = torch.ones((1,26))/26.0\n",
        "      self.weights = self.weights.to(self.device)\n",
        "    elif self.weight_type == 'static':\n",
        "      self.weights = torch.FloatTensor([0.1435, 0.1870, 0.1692, 0.1165, 0.1949, 0.1204, 0.1728, 0.1372, 0.1620,\n",
        "         0.1540, 0.1987, 0.1057, 0.1482, 0.1192, 0.1590, 0.1929, 0.1158, 0.1907,\n",
        "         0.1345, 0.1307, 0.1665, 0.1698, 0.1797, 0.1657, 0.1520, 0.1537]).unsqueeze(0)\n",
        "      self.weights = self.weights.to(self.device)\n",
        "    \n",
        "  def forward(self, pred, target):\n",
        "    if self.weight_type == 'dynamic':\n",
        "      self.weights = self.prepare_dynamic_weights(target)\n",
        "      self.weights = self.weights.to(self.device)\n",
        "    loss = (((pred - target)**2) * self.weights)\n",
        "    return loss.sum() \n",
        "\n",
        "  def prepare_dynamic_weights(self, target):\n",
        "    target_stats = torch.sum(target, dim=0).float().unsqueeze(dim=0).cpu()\n",
        "    weights = torch.zeros((1,26))\n",
        "    weights[target_stats != 0 ] = 1.0/torch.log(target_stats[target_stats != 0].data + 1.2)\n",
        "    weights[target_stats == 0] = 0.0001\n",
        "    return weights\n",
        "\n",
        "\n",
        "class ContinuousLoss_L2(nn.Module):\n",
        "  ''' Class to measure loss between continuous emotion dimension predictions and labels. Using l2 loss as base. '''\n",
        "  def __init__(self, margin=1):\n",
        "    super(ContinuousLoss_L2, self).__init__()\n",
        "    self.margin = margin\n",
        "  \n",
        "  def forward(self, pred, target):\n",
        "    labs = torch.abs(pred - target)\n",
        "    loss = labs ** 2 \n",
        "    loss[ (labs < self.margin) ] = 0.0\n",
        "    return loss.sum()\n",
        "\n",
        "\n",
        "class ContinuousLoss_SL1(nn.Module):\n",
        "  ''' Class to measure loss between continuous emotion dimension predictions and labels. Using smooth l1 loss as base. '''\n",
        "  def __init__(self, margin=1):\n",
        "    super(ContinuousLoss_SL1, self).__init__()\n",
        "    self.margin = margin\n",
        "  \n",
        "  def forward(self, pred, target):\n",
        "    labs = torch.abs(pred - target)\n",
        "    loss = 0.5 * (labs ** 2)\n",
        "    loss[ (labs > self.margin) ] = labs[ (labs > self.margin) ] - 0.5\n",
        "    return loss.sum()\n",
        "\n",
        "print ('completed cell')"
      ],
      "execution_count": 8,
      "outputs": [
        {
          "output_type": "stream",
          "text": [
            "completed cell\n"
          ],
          "name": "stdout"
        }
      ]
    },
    {
      "cell_type": "markdown",
      "metadata": {
        "id": "-AMUYcy5h9cM",
        "colab_type": "text"
      },
      "source": [
        "# IV. Load preprocessed data"
      ]
    },
    {
      "cell_type": "code",
      "metadata": {
        "id": "VSadne_Bc5va",
        "colab_type": "code",
        "outputId": "20993809-6f85-4fa9-846b-c9fa90f8d7fe",
        "colab": {
          "base_uri": "https://localhost:8080/",
          "height": 84
        }
      },
      "source": [
        "# Change data_src variable as per your drive\n",
        "data_src = '/content/drive/My Drive/Colab/Emotic/data'\n",
        "\n",
        "\n",
        "# Load training preprocessed data\n",
        "train_context = np.load(os.path.join(data_src,'pre','train_context_arr.npy'))\n",
        "train_body = np.load(os.path.join(data_src,'pre','train_body_arr.npy'))\n",
        "train_cat = np.load(os.path.join(data_src,'pre','train_cat_arr.npy'))\n",
        "train_cont = np.load(os.path.join(data_src,'pre','train_cont_arr.npy'))\n",
        "\n",
        "# Load validation preprocessed data \n",
        "val_context = np.load(os.path.join(data_src,'pre','val_context_arr.npy'))\n",
        "val_body = np.load(os.path.join(data_src,'pre','val_body_arr.npy'))\n",
        "val_cat = np.load(os.path.join(data_src,'pre','val_cat_arr.npy'))\n",
        "val_cont = np.load(os.path.join(data_src,'pre','val_cont_arr.npy'))\n",
        "\n",
        "# Load testing preprocessed data\n",
        "test_context = np.load(os.path.join(data_src,'pre','test_context_arr.npy'))\n",
        "test_body = np.load(os.path.join(data_src,'pre','test_body_arr.npy'))\n",
        "test_cat = np.load(os.path.join(data_src,'pre','test_cat_arr.npy'))\n",
        "test_cont = np.load(os.path.join(data_src,'pre','test_cont_arr.npy'))\n",
        "\n",
        "# Categorical emotion classes\n",
        "cat = ['Affection', 'Anger', 'Annoyance', 'Anticipation', 'Aversion', 'Confidence', 'Disapproval', 'Disconnection',\n",
        "       'Disquietment', 'Doubt/Confusion', 'Embarrassment', 'Engagement', 'Esteem', 'Excitement', 'Fatigue', 'Fear',\n",
        "       'Happiness', 'Pain', 'Peace', 'Pleasure', 'Sadness', 'Sensitivity', 'Suffering', 'Surprise', 'Sympathy', 'Yearning']\n",
        "\n",
        "cat2ind = {}\n",
        "ind2cat = {}\n",
        "for idx, emotion in enumerate(cat):\n",
        "  cat2ind[emotion] = idx\n",
        "  ind2cat[idx] = emotion\n",
        "\n",
        "print ('train ', 'context ', train_context.shape, 'body', train_body.shape, 'cat ', train_cat.shape, 'cont', train_cont.shape)\n",
        "print ('val ', 'context ', val_context.shape, 'body', val_body.shape, 'cat ', val_cat.shape, 'cont', val_cont.shape)\n",
        "print ('test ', 'context ', test_context.shape, 'body', test_body.shape, 'cat ', test_cat.shape, 'cont', test_cont.shape)\n",
        "print ('completed cell')"
      ],
      "execution_count": 9,
      "outputs": [
        {
          "output_type": "stream",
          "text": [
            "train  context  (23266, 224, 224, 3) body (23266, 128, 128, 3) cat  (23266, 26) cont (23266, 3)\n",
            "val  context  (3315, 224, 224, 3) body (3315, 128, 128, 3) cat  (3315, 26) cont (3315, 3)\n",
            "test  context  (7203, 224, 224, 3) body (7203, 128, 128, 3) cat  (7203, 26) cont (7203, 3)\n",
            "completed cell\n"
          ],
          "name": "stdout"
        }
      ]
    },
    {
      "cell_type": "code",
      "metadata": {
        "id": "JySFyUFZNgPy",
        "colab_type": "code",
        "outputId": "7a8b4c42-ec0d-42a1-b45a-af6b27949b96",
        "colab": {
          "base_uri": "https://localhost:8080/",
          "height": 50
        }
      },
      "source": [
        "batch_size = 52\n",
        "\n",
        "context_mean = [0.4690646, 0.4407227, 0.40508908]\n",
        "context_std = [0.2514227, 0.24312855, 0.24266963]\n",
        "body_mean = [0.43832874, 0.3964344, 0.3706214]\n",
        "body_std = [0.24784276, 0.23621225, 0.2323653]\n",
        "context_norm = [context_mean, context_std]\n",
        "body_norm = [body_mean, body_std]\n",
        "\n",
        "\n",
        "train_transform = transforms.Compose([transforms.ToPILImage(),transforms.RandomHorizontalFlip(), transforms.ColorJitter(brightness=0.4, contrast=0.4, saturation=0.4), transforms.ToTensor()])\n",
        "test_transform = transforms.Compose([transforms.ToPILImage(),transforms.ToTensor()])\n",
        "\n",
        "train_dataset = Emotic_PreDataset(train_context, train_body, train_cat, train_cont, train_transform, context_norm, body_norm)\n",
        "val_dataset = Emotic_PreDataset(val_context, val_body, val_cat, val_cont, test_transform, context_norm, body_norm)\n",
        "test_dataset = Emotic_PreDataset(test_context, test_body, test_cat, test_cont, test_transform, context_norm, body_norm)\n",
        "\n",
        "train_loader = DataLoader(train_dataset, batch_size, shuffle=True, drop_last=True)\n",
        "val_loader = DataLoader(val_dataset, batch_size, shuffle=False)\n",
        "test_loader = DataLoader(test_dataset, batch_size, shuffle=False) \n",
        "\n",
        "print ('train loader ', len(train_loader), 'val loader ', len(val_loader), 'test', len(test_loader))\n",
        "print ('completed cell')"
      ],
      "execution_count": 10,
      "outputs": [
        {
          "output_type": "stream",
          "text": [
            "train loader  447 val loader  64 test 139\n",
            "completed cell\n"
          ],
          "name": "stdout"
        }
      ]
    },
    {
      "cell_type": "markdown",
      "metadata": {
        "id": "wvPoFnAliZBC",
        "colab_type": "text"
      },
      "source": [
        "# V. Prepare emotic model"
      ]
    },
    {
      "cell_type": "code",
      "metadata": {
        "id": "cMSaPqJyVyEW",
        "colab_type": "code",
        "outputId": "6da4eb89-e1b8-4891-c8fe-aab416bebeb4",
        "colab": {
          "base_uri": "https://localhost:8080/",
          "height": 34
        }
      },
      "source": [
        "model_path_places = './places'\n",
        "model_context = torch.load(os.path.join(model_path_places,'res_context.pth'))\n",
        "model_body = models.resnet18(pretrained=True)\n",
        "\n",
        "emotic_model = Emotic(list(model_context.children())[-1].in_features, list(model_body.children())[-1].in_features)\n",
        "model_context = nn.Sequential(*(list(model_context.children())[:-1]))\n",
        "model_body = nn.Sequential(*(list(model_body.children())[:-1]))\n",
        "\n",
        "\n",
        "# print (summary(model_context, (3,224,224), device=\"cpu\"))\n",
        "# print (summary(model_body, (3,128,128), device=\"cpu\"))\n",
        "\n",
        "print ('completed cell')"
      ],
      "execution_count": 11,
      "outputs": [
        {
          "output_type": "stream",
          "text": [
            "completed cell\n"
          ],
          "name": "stdout"
        }
      ]
    },
    {
      "cell_type": "markdown",
      "metadata": {
        "id": "rE5qh_ljPOqs",
        "colab_type": "text"
      },
      "source": [
        "## Prepare optimizer"
      ]
    },
    {
      "cell_type": "code",
      "metadata": {
        "id": "I6-3FTclWAGh",
        "colab_type": "code",
        "outputId": "134ffac3-76f7-4192-ed51-1a538e17673f",
        "colab": {
          "base_uri": "https://localhost:8080/",
          "height": 34
        }
      },
      "source": [
        "for param in emotic_model.parameters():\n",
        "  param.requires_grad = True\n",
        "for param in model_context.parameters():\n",
        "  param.requires_grad = False\n",
        "for param in model_body.parameters():\n",
        "  param.requires_grad = False\n",
        "\n",
        "device = torch.device(\"cuda:0\" if torch.cuda.is_available() else \"cpu\")\n",
        "opt = optim.Adam((list(emotic_model.parameters()) + list(model_context.parameters()) + list(model_body.parameters())), lr=0.001, weight_decay=5e-4)\n",
        "scheduler = StepLR(opt, step_size=7, gamma=0.1)\n",
        "\n",
        "disc_loss = DiscreteLoss('dynamic', device)\n",
        "cont_loss_SL1 = ContinuousLoss_SL1()\n",
        "\n",
        "print ('completed cell')"
      ],
      "execution_count": 12,
      "outputs": [
        {
          "output_type": "stream",
          "text": [
            "completed cell\n"
          ],
          "name": "stdout"
        }
      ]
    },
    {
      "cell_type": "markdown",
      "metadata": {
        "id": "hvUH2QxGjCEc",
        "colab_type": "text"
      },
      "source": [
        "# VI. Train model"
      ]
    },
    {
      "cell_type": "code",
      "metadata": {
        "id": "wqtB3MrzA3Uj",
        "colab_type": "code",
        "outputId": "d1bbf51a-76ee-4d13-97d0-2bf22108d660",
        "colab": {
          "base_uri": "https://localhost:8080/",
          "height": 34
        }
      },
      "source": [
        "def train_emotic(epochs, model_path, opt, scheduler, models, disc_loss, cont_loss, cat_loss_param=0.5, cont_loss_param=0.5):\n",
        "  if not os.path.exists(model_path):\n",
        "    os.makedirs(model_path)\n",
        "  \n",
        "  train_loss = list()\n",
        "  val_loss = list()\n",
        "\n",
        "  model_context, model_body, emotic_model = models\n",
        "  emotic_model.to(device)\n",
        "  model_context.to(device)\n",
        "  model_body.to(device)\n",
        "\n",
        "  for e in range(epochs):\n",
        "    running_loss = 0.0\n",
        "    \n",
        "    emotic_model.train()\n",
        "    model_context.train()\n",
        "    model_body.train()\n",
        "    \n",
        "    for images_context, images_body, labels_cat, labels_cont in iter(train_loader):\n",
        "      images_context = images_context.to(device)\n",
        "      images_body = images_body.to(device)\n",
        "      labels_cat = labels_cat.to(device)\n",
        "      labels_cont = labels_cont.to(device)\n",
        "\n",
        "      opt.zero_grad()\n",
        "\n",
        "      pred_context = model_context(images_context)\n",
        "      pred_body = model_body(images_body)\n",
        "\n",
        "      pred_cat, pred_cont = emotic_model(pred_context, pred_body)\n",
        "      cat_loss_batch = disc_loss(pred_cat, labels_cat)\n",
        "      cont_loss_batch = cont_loss(pred_cont * 10, labels_cont * 10)\n",
        "      loss = (cat_loss_param * cat_loss_batch) + (cont_loss_param * cont_loss_batch)\n",
        "      running_loss += loss.item()\n",
        "      loss.backward()\n",
        "      opt.step()\n",
        "\n",
        "    if e % 1 == 0: \n",
        "      print ('epoch = %d training loss = %.4f' %(e, running_loss))\n",
        "    train_loss.append(running_loss)\n",
        "\n",
        "    \n",
        "    running_loss = 0.0 \n",
        "    emotic_model.eval()\n",
        "    model_context.eval()\n",
        "    model_body.eval()\n",
        "    \n",
        "    with torch.no_grad():\n",
        "      for images_context, images_body, labels_cat, labels_cont in iter(val_loader):\n",
        "        images_context = images_context.to(device)\n",
        "        images_body = images_body.to(device)\n",
        "        labels_cat = labels_cat.to(device)\n",
        "        labels_cont = labels_cont.to(device)\n",
        "\n",
        "        pred_context = model_context(images_context)\n",
        "        pred_body = model_body(images_body)\n",
        "        \n",
        "        pred_cat, pred_cont = emotic_model(pred_context, pred_body)\n",
        "        cat_loss_batch = disc_loss(pred_cat, labels_cat)\n",
        "        cont_loss_batch = cont_loss(pred_cont * 10, labels_cont * 10)\n",
        "        loss = (cat_loss_param * cat_loss_batch) + (cont_loss_param * cont_loss_batch)\n",
        "        running_loss += loss.item()\n",
        "\n",
        "      if e % 1 == 0:\n",
        "        print ('epoch = %d validation loss = %.4f' %(e, running_loss))\n",
        "    val_loss.append(running_loss)\n",
        "      \n",
        "    scheduler.step()\n",
        "  \n",
        "  print ('completed training')\n",
        "  emotic_model.to(\"cpu\")\n",
        "  model_context.to(\"cpu\")\n",
        "  model_body.to(\"cpu\")\n",
        "  torch.save(emotic_model, os.path.join(model_path, 'model_emotic.pth'))\n",
        "  torch.save(model_context, os.path.join(model_path, 'model_context.pth'))\n",
        "  torch.save(model_body, os.path.join(model_path, 'model_body.pth'))\n",
        "  \n",
        "  f, (ax1, ax2) = plt.subplots(1, 2, figsize = (6, 6))\n",
        "  f.suptitle('emotic')\n",
        "  ax1.plot(range(0,len(train_loss)),train_loss, color='Blue')\n",
        "  ax2.plot(range(0,len(val_loss)),val_loss, color='Red')\n",
        "  ax1.legend(['train'])\n",
        "  ax2.legend(['val'])\n",
        "\n",
        "print ('completed cell')"
      ],
      "execution_count": 13,
      "outputs": [
        {
          "output_type": "stream",
          "text": [
            "completed cell\n"
          ],
          "name": "stdout"
        }
      ]
    },
    {
      "cell_type": "code",
      "metadata": {
        "id": "i1KsKv_hwoUC",
        "colab_type": "code",
        "outputId": "d2b1b6fd-fb90-46c6-815e-2d76e111c07e",
        "colab": {
          "base_uri": "https://localhost:8080/",
          "height": 991
        }
      },
      "source": [
        "train_emotic(15, './models', opt, scheduler, [model_context, model_body, emotic_model], disc_loss, cont_loss_SL1)"
      ],
      "execution_count": 14,
      "outputs": [
        {
          "output_type": "stream",
          "text": [
            "epoch = 0 training loss = 71042.0836\n",
            "epoch = 0 validation loss = 5610.5711\n",
            "epoch = 1 training loss = 46261.7234\n",
            "epoch = 1 validation loss = 5833.7489\n",
            "epoch = 2 training loss = 44434.1976\n",
            "epoch = 2 validation loss = 5381.3547\n",
            "epoch = 3 training loss = 43240.4571\n",
            "epoch = 3 validation loss = 5336.5164\n",
            "epoch = 4 training loss = 42406.0807\n",
            "epoch = 4 validation loss = 5020.6323\n",
            "epoch = 5 training loss = 41881.0489\n",
            "epoch = 5 validation loss = 4966.8540\n",
            "epoch = 6 training loss = 41308.0901\n",
            "epoch = 6 validation loss = 4995.1876\n",
            "epoch = 7 training loss = 40125.8464\n",
            "epoch = 7 validation loss = 4894.0163\n",
            "epoch = 8 training loss = 39686.4472\n",
            "epoch = 8 validation loss = 4853.1592\n",
            "epoch = 9 training loss = 39558.2041\n",
            "epoch = 9 validation loss = 4923.9077\n",
            "epoch = 10 training loss = 39413.6790\n",
            "epoch = 10 validation loss = 4849.4048\n",
            "epoch = 11 training loss = 39368.5059\n",
            "epoch = 11 validation loss = 4826.8070\n",
            "epoch = 12 training loss = 39316.5346\n",
            "epoch = 12 validation loss = 4815.0648\n",
            "epoch = 13 training loss = 39161.4047\n",
            "epoch = 13 validation loss = 4855.4562\n",
            "epoch = 14 training loss = 39052.7824\n",
            "epoch = 14 validation loss = 4883.1666\n",
            "completed training\n"
          ],
          "name": "stdout"
        },
        {
          "output_type": "stream",
          "text": [
            "/usr/local/lib/python3.6/dist-packages/torch/serialization.py:402: UserWarning: Couldn't retrieve source code for container of type Emotic. It won't be checked for correctness upon loading.\n",
            "  \"type \" + obj.__name__ + \". It won't be checked \"\n"
          ],
          "name": "stderr"
        },
        {
          "output_type": "display_data",
          "data": {
            "image/png": "[encoded data removed]",
            "text/plain": [
              "<Figure size 432x432 with 2 Axes>"
            ]
          },
          "metadata": {
            "tags": [],
            "needs_background": "light"
          }
        }
      ]
    },
    {
      "cell_type": "markdown",
      "metadata": {
        "id": "cDa4nuQvjGSa",
        "colab_type": "text"
      },
      "source": [
        "# VII. Test model"
      ]
    },
    {
      "cell_type": "code",
      "metadata": {
        "id": "AFCcFv4mnmRi",
        "colab_type": "code",
        "outputId": "cf3ff83f-7176-422a-ebbe-a0d82d77607e",
        "colab": {
          "base_uri": "https://localhost:8080/",
          "height": 34
        }
      },
      "source": [
        "def test_scikit_ap(cat_preds, cat_labels):\n",
        "  ap = np.zeros(26, dtype=np.float32)\n",
        "  for i in range(26):\n",
        "    ap[i] = average_precision_score(cat_labels[i, :], cat_preds[i, :])\n",
        "  print ('ap', ap, ap.shape, ap.mean())\n",
        "  return ap.mean()\n",
        "\n",
        "def test_emotic_vad(cont_preds, cont_labels):\n",
        "  vad = np.zeros(3, dtype=np.float32)\n",
        "  for i in range(3):\n",
        "    vad[i] = np.mean(np.abs(cont_preds[i, :] - cont_labels[i, :]))\n",
        "  print ('vad', vad, vad.shape, vad.mean())\n",
        "  return vad.mean()\n",
        "\n",
        "def get_thresholds(cat_preds, cat_labels):\n",
        "  thresholds = np.zeros(26, dtype=np.float32)\n",
        "  for i in range(26):\n",
        "    p, r, t = precision_recall_curve(cat_labels[i, :], cat_preds[i, :])\n",
        "    for k in range(len(p)):\n",
        "      if p[k] == r[k]:\n",
        "        thresholds[i] = t[k]\n",
        "        break\n",
        "  np.save('./thresholds.npy', thresholds)\n",
        "  return thresholds\n",
        "\n",
        "print ('completed cell')"
      ],
      "execution_count": 15,
      "outputs": [
        {
          "output_type": "stream",
          "text": [
            "completed cell\n"
          ],
          "name": "stdout"
        }
      ]
    },
    {
      "cell_type": "code",
      "metadata": {
        "colab_type": "code",
        "id": "KOeZRVdbUPNx",
        "outputId": "dfecf880-f7ed-4bb1-c355-f07ce839b899",
        "colab": {
          "base_uri": "https://localhost:8080/",
          "height": 34
        }
      },
      "source": [
        "def test_data(models, device, data_loader, num_images):\n",
        "    model_context, model_body, emotic_model = models\n",
        "    cat_preds = np.zeros((num_images, 26))\n",
        "    cat_labels = np.zeros((num_images, 26))\n",
        "    cont_preds = np.zeros((num_images, 3))\n",
        "    cont_labels = np.zeros((num_images, 3))\n",
        "\n",
        "    with torch.no_grad():\n",
        "        model_context.to(device)\n",
        "        model_body.to(device)\n",
        "        emotic_model.to(device)\n",
        "        model_context.eval()\n",
        "        model_body.eval()\n",
        "        emotic_model.eval()\n",
        "        indx = 0\n",
        "        print ('starting testing')\n",
        "        for images_context, images_body, labels_cat, labels_cont in iter(data_loader):\n",
        "            images_context = images_context.to(device)\n",
        "            images_body = images_body.to(device)\n",
        "\n",
        "            pred_context = model_context(images_context)\n",
        "            pred_body = model_body(images_body)\n",
        "            pred_cat, pred_cont = emotic_model(pred_context, pred_body)\n",
        "\n",
        "            cat_preds[ indx : (indx + pred_cat.shape[0]), :] = pred_cat.to(\"cpu\").data.numpy()\n",
        "            cat_labels[ indx : (indx + labels_cat.shape[0]), :] = labels_cat.to(\"cpu\").data.numpy()\n",
        "            cont_preds[ indx : (indx + pred_cont.shape[0]), :] = pred_cont.to(\"cpu\").data.numpy() * 10\n",
        "            cont_labels[ indx : (indx + labels_cont.shape[0]), :] = labels_cont.to(\"cpu\").data.numpy() * 10 \n",
        "            indx = indx + pred_cat.shape[0]\n",
        "\n",
        "    cat_preds = cat_preds.transpose()\n",
        "    cat_labels = cat_labels.transpose()\n",
        "    cont_preds = cont_preds.transpose()\n",
        "    cont_labels = cont_labels.transpose()\n",
        "    scipy.io.savemat('./cat_preds.mat',mdict={'cat_preds':cat_preds})\n",
        "    scipy.io.savemat('./cat_labels.mat',mdict={'cat_labels':cat_labels})\n",
        "    scipy.io.savemat('./cont_preds.mat',mdict={'cont_preds':cont_preds})\n",
        "    scipy.io.savemat('./cont_labels.mat',mdict={'cont_labels':cont_labels})\n",
        "    print ('completed testing')\n",
        "    ap_mean = test_scikit_ap(cat_preds, cat_labels)\n",
        "    vad_mean = test_emotic_vad(cont_preds, cont_labels)\n",
        "    print (ap_mean, vad_mean)\n",
        "    return ap_mean, vad_mean \n",
        "\n",
        "print ('completed cell')"
      ],
      "execution_count": 16,
      "outputs": [
        {
          "output_type": "stream",
          "text": [
            "completed cell\n"
          ],
          "name": "stdout"
        }
      ]
    },
    {
      "cell_type": "code",
      "metadata": {
        "id": "oB69Xo-kLldG",
        "colab_type": "code",
        "outputId": "83d7bc40-c0b9-4dd2-e4ae-5441034c220c",
        "colab": {
          "base_uri": "https://localhost:8080/",
          "height": 353
        }
      },
      "source": [
        "val_ap, val_vad = test_data([model_context, model_body, emotic_model], device, val_loader, val_dataset.__len__())\n",
        "test_ap, test_vad = test_data([model_context, model_body, emotic_model], device, test_loader, test_dataset.__len__())\n",
        "\n",
        "print ('validation Mean average precision=%.4f Mean VAD MAE=%.4f' %(val_ap, val_vad))\n",
        "print ('testing Mean average precision=%.4f Mean VAD MAE=%.4f' %(test_ap, test_vad))"
      ],
      "execution_count": 17,
      "outputs": [
        {
          "output_type": "stream",
          "text": [
            "starting testing\n",
            "completed testing\n",
            "ap [0.3949865  0.17890823 0.21746121 0.95054156 0.17780074 0.7931695\n",
            " 0.229143   0.37020528 0.18187584 0.21136093 0.05526229 0.98093367\n",
            " 0.25903982 0.7995634  0.1182593  0.08988345 0.80778223 0.15500002\n",
            " 0.28862482 0.49514762 0.19118501 0.07363844 0.1871227  0.15210989\n",
            " 0.36093006 0.11644995] (26,) 0.33986098\n",
            "vad [0.7142576  0.84440917 0.9054704 ] (3,) 0.821379\n",
            "0.33986098 0.821379\n",
            "starting testing\n",
            "completed testing\n",
            "ap [0.2874401  0.08676253 0.14388956 0.5655653  0.07020731 0.75880736\n",
            " 0.11639392 0.24121834 0.16281651 0.17114119 0.01929642 0.86306214\n",
            " 0.15631099 0.6962069  0.08706686 0.05460502 0.66348666 0.06360297\n",
            " 0.21989821 0.41962627 0.17866218 0.05818626 0.17521654 0.08399871\n",
            " 0.12673652 0.07929516] (26,) 0.25190386\n",
            "vad [0.912804   1.027487   0.96414095] (3,) 0.968144\n",
            "0.25190386 0.968144\n",
            "validation Mean average precision=0.3399 Mean VAD MAE=0.8214\n",
            "testing Mean average precision=0.2519 Mean VAD MAE=0.9681\n"
          ],
          "name": "stdout"
        }
      ]
    },
    {
      "cell_type": "code",
      "metadata": {
        "id": "T-fc5LNp4len",
        "colab_type": "code",
        "outputId": "a773fa6b-c31c-40c5-be1b-6c5e17291b55",
        "colab": {
          "base_uri": "https://localhost:8080/",
          "height": 118
        }
      },
      "source": [
        "cat_labels = scipy.io.loadmat('./cat_labels.mat')\n",
        "cat_preds = scipy.io.loadmat('./cat_preds.mat')\n",
        "cat_preds = cat_preds['cat_preds']\n",
        "cat_labels = cat_labels['cat_labels']\n",
        "print (cat_preds.shape, cat_labels.shape)\n",
        "\n",
        "#thesholds calculation for inference \n",
        "thresholds = get_thresholds(cat_preds, cat_labels)\n",
        "print (thresholds, thresholds.shape)"
      ],
      "execution_count": 18,
      "outputs": [
        {
          "output_type": "stream",
          "text": [
            "(26, 7203) (26, 7203)\n",
            "[0.08701557 0.1589056  0.09289873 0.19048621 0.11370537 0.13716227\n",
            " 0.12086156 0.09053159 0.04740949 0.05390422 0.05036047 0.47891623\n",
            " 0.05516443 0.16045685 0.06358694 0.05951726 0.23607145 0.11357296\n",
            " 0.09494811 0.09920253 0.09788954 0.07316053 0.12010533 0.05801693\n",
            " 0.06555955 0.05944895] (26,)\n"
          ],
          "name": "stdout"
        }
      ]
    },
    {
      "cell_type": "markdown",
      "metadata": {
        "id": "owTpkHmOjLvr",
        "colab_type": "text"
      },
      "source": [
        "# VIII. Average Precision computation using <a href=\"https://1drv.ms/u/s!AkYHbdGNmIVCgbYZB_dY3wuWJou_5A?e=jcsZUj\">author's script</a>"
      ]
    },
    {
      "cell_type": "code",
      "metadata": {
        "id": "30PEDPHxrkXA",
        "colab_type": "code",
        "colab": {
          "base_uri": "https://localhost:8080/",
          "height": 101
        },
        "outputId": "8d2ed78c-fadb-40fc-8f11-be409beb8ea0"
      },
      "source": [
        "!apt install octave"
      ],
      "execution_count": 19,
      "outputs": [
        {
          "output_type": "stream",
          "text": [
            "Reading package lists... Done\n",
            "Building dependency tree       \n",
            "Reading state information... Done\n",
            "octave is already the newest version (4.2.2-1ubuntu1).\n",
            "0 upgraded, 0 newly installed, 0 to remove and 31 not upgraded.\n"
          ],
          "name": "stdout"
        }
      ]
    },
    {
      "cell_type": "code",
      "metadata": {
        "id": "6fWR4CTMr7Hf",
        "colab_type": "code",
        "outputId": "b7539f27-3a07-4184-f67f-d4b3d84350f7",
        "colab": {
          "base_uri": "https://localhost:8080/",
          "height": 34
        }
      },
      "source": [
        "%%writefile eval.m\n",
        "\n",
        "gt = load('./cat_labels.mat')\n",
        "gt = gt.cat_labels\n",
        "\n",
        "pred = load('./cat_preds.mat')\n",
        "pred = pred.cat_preds\n",
        "\n",
        "categories{1} = 'Affection';\n",
        "categories{2} = 'Anger';\n",
        "categories{3} = 'Annoyance';\n",
        "categories{4} = 'Anticipation';\n",
        "categories{5} = 'Aversion';\n",
        "categories{6} = 'Confidence';\n",
        "categories{7} = 'Disapproval';\n",
        "categories{8} = 'Disconnection';\n",
        "categories{9} = 'Disquietment';\n",
        "categories{10} = 'Doubt/Confusion';\n",
        "categories{11} = 'Embarrassment';\n",
        "categories{12} = 'Engagement';\n",
        "categories{13} = 'Esteem';\n",
        "categories{14} = 'Excitement';\n",
        "categories{15} = 'Fatigue';\n",
        "categories{16} = 'Fear';\n",
        "categories{17} = 'Happiness';\n",
        "categories{18} = 'Pain';\n",
        "categories{19} = 'Peace';\n",
        "categories{20} = 'Pleasure';\n",
        "categories{21} = 'Sadness';\n",
        "categories{22} = 'Sensitivity';\n",
        "categories{23} = 'Suffering';\n",
        "categories{24} = 'Surprise';\n",
        "categories{25} = 'Sympathy';\n",
        "categories{26} = 'Yearning';\n",
        "\n",
        "\n",
        "for c = 1:length(categories)\n",
        "  confidence = pred(c,:)'; \n",
        "  testClass = gt(c,:)';\n",
        "  confidence = double(confidence);\n",
        "\n",
        "  S = rand('state');\n",
        "  rand('state',0);\n",
        "  confidence = confidence + rand(size(confidence))*10^(-10);\n",
        "  rand('state',S)\n",
        "\n",
        "  [S,j] = sort(-confidence);\n",
        "  C = testClass(j);\n",
        "  n = length(C);\n",
        "    \n",
        "  REL = sum(C);\n",
        "  if n>0\n",
        "    RETREL = cumsum(C);\n",
        "    RET    = (1:n)';\n",
        "  else\n",
        "    RETREL = 0;\n",
        "    RET    = 1;\n",
        "  end\n",
        "\n",
        "  precision = 100*RETREL ./ RET;\n",
        "  recall    = 100*RETREL  / REL;\n",
        "  th = -S;\n",
        "\n",
        "  % compute AP\n",
        "  mrec=[0 ; recall ; 100];\n",
        "  mpre=[0 ; precision ; 0];\n",
        "  for i=numel(mpre)-1:-1:1\n",
        "    mpre(i)=max(mpre(i),mpre(i+1));\n",
        "  end\n",
        "  i=find(mrec(2:end)~=mrec(1:end-1))+1;\n",
        "  averagePrecision=sum((mrec(i)-mrec(i-1)).*mpre(i))/100;\n",
        "  ap_list(c)  = averagePrecision\n",
        "end\n",
        "\n",
        "display('#######################################')\n",
        "\n",
        "display('Average precision of predictions');\n",
        "for c = 1:length(categories)\n",
        "    sp = '............................';\n",
        "    cat = strcat(categories{c}, sp);\n",
        "    cat = cat(1:18);\n",
        "    display(cat);\n",
        "    display(ap_list(c));\n",
        "end"
      ],
      "execution_count": 20,
      "outputs": [
        {
          "output_type": "stream",
          "text": [
            "Overwriting eval.m\n"
          ],
          "name": "stdout"
        }
      ]
    },
    {
      "cell_type": "code",
      "metadata": {
        "id": "fA1Oc48zvI_l",
        "colab_type": "code",
        "colab": {}
      },
      "source": [
        "!octave -W eval.m"
      ],
      "execution_count": 0,
      "outputs": []
    }
  ]
}